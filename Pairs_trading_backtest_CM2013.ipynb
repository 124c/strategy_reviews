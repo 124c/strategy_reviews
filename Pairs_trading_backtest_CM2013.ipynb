{
  "nbformat": 4,
  "nbformat_minor": 0,
  "metadata": {
    "colab": {
      "name": "Pairs_trading_backtest_CM2013.ipynb",
      "provenance": [],
      "authorship_tag": "ABX9TyPQdmjArB0LoVhCjeLbbQqZ",
      "include_colab_link": true
    },
    "kernelspec": {
      "name": "python3",
      "display_name": "Python 3"
    }
  },
  "cells": [
    {
      "cell_type": "markdown",
      "metadata": {
        "id": "view-in-github",
        "colab_type": "text"
      },
      "source": [
        "<a href=\"https://colab.research.google.com/github/124c/strategy_reviews/blob/master/Pairs_trading_backtest_CM2013.ipynb\" target=\"_parent\"><img src=\"https://colab.research.google.com/assets/colab-badge.svg\" alt=\"Open In Colab\"/></a>"
      ]
    },
    {
      "cell_type": "code",
      "metadata": {
        "id": "OJqaYfi6ZxmB",
        "colab_type": "code",
        "colab": {
          "base_uri": "https://localhost:8080/",
          "height": 272
        },
        "outputId": "27fe8a0d-b631-463d-a47e-c49b92f5b13d"
      },
      "source": [
        "import numpy as np\n",
        "import pandas as pd\n",
        "import matplotlib.pyplot as plt\n",
        "import statsmodels.api as sm\n",
        "from statsmodels.tsa.vector_ar.vecm import coint_johansen\n",
        "!pip install pandas-datareader\n",
        "import pandas_datareader as web"
      ],
      "execution_count": 1,
      "outputs": [
        {
          "output_type": "stream",
          "text": [
            "/usr/local/lib/python3.6/dist-packages/statsmodels/tools/_testing.py:19: FutureWarning: pandas.util.testing is deprecated. Use the functions in the public API at pandas.testing instead.\n",
            "  import pandas.util.testing as tm\n"
          ],
          "name": "stderr"
        },
        {
          "output_type": "stream",
          "text": [
            "Requirement already satisfied: pandas-datareader in /usr/local/lib/python3.6/dist-packages (0.8.1)\n",
            "Requirement already satisfied: pandas>=0.21 in /usr/local/lib/python3.6/dist-packages (from pandas-datareader) (1.0.5)\n",
            "Requirement already satisfied: requests>=2.3.0 in /usr/local/lib/python3.6/dist-packages (from pandas-datareader) (2.23.0)\n",
            "Requirement already satisfied: lxml in /usr/local/lib/python3.6/dist-packages (from pandas-datareader) (4.2.6)\n",
            "Requirement already satisfied: python-dateutil>=2.6.1 in /usr/local/lib/python3.6/dist-packages (from pandas>=0.21->pandas-datareader) (2.8.1)\n",
            "Requirement already satisfied: pytz>=2017.2 in /usr/local/lib/python3.6/dist-packages (from pandas>=0.21->pandas-datareader) (2018.9)\n",
            "Requirement already satisfied: numpy>=1.13.3 in /usr/local/lib/python3.6/dist-packages (from pandas>=0.21->pandas-datareader) (1.18.5)\n",
            "Requirement already satisfied: certifi>=2017.4.17 in /usr/local/lib/python3.6/dist-packages (from requests>=2.3.0->pandas-datareader) (2020.6.20)\n",
            "Requirement already satisfied: chardet<4,>=3.0.2 in /usr/local/lib/python3.6/dist-packages (from requests>=2.3.0->pandas-datareader) (3.0.4)\n",
            "Requirement already satisfied: idna<3,>=2.5 in /usr/local/lib/python3.6/dist-packages (from requests>=2.3.0->pandas-datareader) (2.10)\n",
            "Requirement already satisfied: urllib3!=1.25.0,!=1.25.1,<1.26,>=1.21.1 in /usr/local/lib/python3.6/dist-packages (from requests>=2.3.0->pandas-datareader) (1.24.3)\n",
            "Requirement already satisfied: six>=1.5 in /usr/local/lib/python3.6/dist-packages (from python-dateutil>=2.6.1->pandas>=0.21->pandas-datareader) (1.15.0)\n"
          ],
          "name": "stdout"
        }
      ]
    },
    {
      "cell_type": "markdown",
      "metadata": {
        "id": "RmqV77JKbTKS",
        "colab_type": "text"
      },
      "source": [
        "Define a function to load free data from Yahoo Finance API"
      ]
    },
    {
      "cell_type": "code",
      "metadata": {
        "id": "c5QmZ92kbAoV",
        "colab_type": "code",
        "colab": {}
      },
      "source": [
        "def get_prices(ticker, source, startDate, endDate, *args):\n",
        "    if source == 'yahoo':\n",
        "        try:\n",
        "            result = web.DataReader(ticker, 'yahoo', startDate, endDate,)\n",
        "            # TODO: add multiindex on columns if multiple columns chosen\n",
        "            if len(args) > 0:\n",
        "              result = result[[x for x in args]]\n",
        "\n",
        "              result.columns = ticker\n",
        "        except KeyError:\n",
        "            print('may be wrong ticker name')\n",
        "            result = None\n",
        "        except Exception:\n",
        "            print(Exception)\n",
        "            result = None\n",
        "    return result"
      ],
      "execution_count": 2,
      "outputs": []
    },
    {
      "cell_type": "markdown",
      "metadata": {
        "id": "rb_O11ZXcAAC",
        "colab_type": "text"
      },
      "source": [
        "Now define cointegration tests"
      ]
    },
    {
      "cell_type": "code",
      "metadata": {
        "id": "SJu4JEwocIsH",
        "colab_type": "code",
        "colab": {}
      },
      "source": [
        "def run_adfuller_test(Spread):\n",
        "    '''\n",
        "    run cointegration test if there are more than 100 observations\n",
        "    H0: that there is a unit root -> no stationarity\n",
        "    H1: there is no unit root -> stationary\n",
        "    pval > threshold value: cannot reject H0'''\n",
        "    if len(Spread) >= 100:\n",
        "        '''settings for regression testing:\n",
        "        https://www.statsmodels.org/dev/generated/statsmodels.tsa.stattools.adfuller.html\n",
        "        here we assume no time trend in time series and no drift for simplicity!'''\n",
        "        return float(sm.tsa.adfuller(x=Spread)[1])  # ,regression='ctt'\n",
        "    else:\n",
        "        return np.nan\n",
        "\n",
        "def trace_results(statistic, crit_vals):\n",
        "    trace_res = list(statistic > crit_vals)\n",
        "    if trace_res == [True, True, True]:\n",
        "        # print('reject 0 coint. relationships, 99pct confidence')\n",
        "        return 'coint exists'\n",
        "    if trace_res == [True, True, False]:\n",
        "        # print('reject 0 coint. relationships, 95pct confidence')\n",
        "        return 'coint exists'\n",
        "    if trace_res == [True, False, False]:\n",
        "        # print('reject 0 coint. relationships, 90pct confidence')\n",
        "        return 'coint rejected'\n",
        "    if trace_res == [False, False, False]:\n",
        "        # print('cannot reject 0 coint. relationships')\n",
        "        return 'coint rejected'\n",
        "\n",
        "def run_johansen_test(data):\n",
        "    result = coint_johansen(data, det_order=0, k_ar_diff=1)\n",
        "    \"\"\"r = 0 means no cointegration, r<=1 means up to one cointegration relationship etc\n",
        "    We have m hypothesised numbers of cointegrated equations: here at most 0, at most 1 \n",
        "    cvt - Critical values (90%, 95%, 99%) of trace statistic\n",
        "    lr1 - Trace statistic\n",
        "    Trace test:\n",
        "    H0: 0 cointegration equations\n",
        "    H1: coint. eq. exist > 0 \n",
        "    explanation https://www.youtube.com/watch?v=TB4m9M1sIJ0\n",
        "    \"\"\"\n",
        "    stat_r0 = result.lr1[0]\n",
        "    crits_r0 = result.cvt[0]\n",
        "    # eig_stat_r0 = result.lr2[0]\n",
        "    # eig_crits_r0 = result.cvm[0]\n",
        "    stat_res = trace_results(stat_r0, crits_r0)  # there are 0 coint. equations. pass if rejected\n",
        "    # eig_res = trace_results(eig_stat_r0, eig_crits_r0)  # there are 0 coint. equations. pass if rejected\n",
        "    return stat_res\n",
        "\n",
        "def run_engel_granger(ts1, ts2):\n",
        "    '''H0: there is no cointegration\n",
        "    H1: there is cointegration relationship\n",
        "    pval < threshold value: reject H0\n",
        "    time series are assumed to be integrated of order 1!!!'''\n",
        "    return sm.tsa.coint(ts1, ts2, autolag='bic')[1]"
      ],
      "execution_count": 3,
      "outputs": []
    },
    {
      "cell_type": "markdown",
      "metadata": {
        "id": "P2HzSmQzdEkk",
        "colab_type": "text"
      },
      "source": [
        "Now define z-score and hedge ratio calculation"
      ]
    },
    {
      "cell_type": "code",
      "metadata": {
        "id": "E_DBour6dLW8",
        "colab_type": "code",
        "colab": {}
      },
      "source": [
        "def get_OLS_spread(series1, series2):\n",
        "    x_train = sm.add_constant(series2)\n",
        "    model = sm.OLS(series1, x_train)\n",
        "    result = model.fit()\n",
        "    hedge_ratio = result.params[1]\n",
        "    spread = series1 - series2 * hedge_ratio\n",
        "    return spread, hedge_ratio\n",
        "\n",
        "def zscore_std(series):\n",
        "    return ((series - series.mean()) / np.std(series)).rename(\"z-score\")"
      ],
      "execution_count": 4,
      "outputs": []
    },
    {
      "cell_type": "markdown",
      "metadata": {
        "id": "e9FjCbt9eXgE",
        "colab_type": "text"
      },
      "source": [
        "Let's write down trading logic"
      ]
    },
    {
      "cell_type": "code",
      "metadata": {
        "id": "DAAeL64odNlM",
        "colab_type": "code",
        "colab": {}
      },
      "source": [
        "def check_open(current_zscore, long_thresh, short_thresh):\n",
        "    return np.where(current_zscore < long_thresh, 1, np.where(current_zscore > short_thresh, -1, 0))\n",
        "def check_close_long(current_zscore, close_thresh):\n",
        "    return np.where(current_zscore > close_thresh, 0, 1)\n",
        "def check_close_short(current_zscore, close_thresh):\n",
        "    return np.where(current_zscore < close_thresh, 0, -1)\n",
        "\n",
        "def trading_rule(current_position, current_zscore):\n",
        "    if current_position == 0: # if no positions today, check if I should open one tomorrow\n",
        "        position = check_open(current_zscore, -2, 2)\n",
        "    if current_position == 1: # if long today, should I close it tomorrow\n",
        "        position = check_close_long(current_zscore, -0.5)\n",
        "    if current_position == -1: # the same here\n",
        "        position = check_close_short(current_zscore, 0.75)\n",
        "    return position"
      ],
      "execution_count": 5,
      "outputs": []
    },
    {
      "cell_type": "markdown",
      "metadata": {
        "id": "rDsjUrJKenah",
        "colab_type": "text"
      },
      "source": [
        "The last function definitions are for strategy analytics"
      ]
    },
    {
      "cell_type": "code",
      "metadata": {
        "id": "ECTIT5QSexIo",
        "colab_type": "code",
        "colab": {}
      },
      "source": [
        "def get_position_numbers(signal_list):\n",
        "    posnums = [0]\n",
        "    posnum = 0\n",
        "    for i in range(1, len(signal_list)):\n",
        "        if signal_list[i] == 0:\n",
        "            posnums.append(0)\n",
        "        else: # two cases: 11, 01, otherwise 0\n",
        "            if signal_list[i-1] == 0:\n",
        "                posnum+=1\n",
        "            else:\n",
        "                posnum+=0\n",
        "            posnums.append(posnum)\n",
        "    return posnums\n",
        "\n",
        "def limit_position_time(signals, length):\n",
        "    nums = [x for x in signals['position_numbers'].unique() if x !=0]\n",
        "    for j in nums:\n",
        "        otr_int = signals[signals['position_numbers']==j].index\n",
        "        otr_length = len(otr_int)\n",
        "        if otr_length > length:\n",
        "            numbers = [j]*length + [0]*(otr_length - length)\n",
        "            signals['position_numbers'].loc[otr_int[0]:otr_int[-1]] = numbers\n",
        "    return signals\n",
        "\n",
        "def get_log_returns(dataset, ticker1, ticker2, hedge_ratio):\n",
        "    log_L = pd.Series(np.log(dataset[ticker1]))\n",
        "    log_S = pd.Series(np.log(dataset[ticker2]))\n",
        "    dataset['Log_L'] = log_L.diff()\n",
        "    dataset['Log_S'] = log_S.diff()\n",
        "    dataset['log_returns'] = np.where(dataset['positions'] == 1,\n",
        "                                      dataset['Log_L'] - dataset['Log_S']*hedge_ratio,\n",
        "                                      np.where(dataset['positions'] == -1,\n",
        "                                               -1*(dataset['Log_L'] - dataset['Log_S']*hedge_ratio),\n",
        "                                               0))\n",
        "    dataset['simple_returns'] = np.exp(dataset['log_returns'])-1\n",
        "    return dataset\n",
        "\n",
        "def get_cross_section(signals, cost):\n",
        "    trades = {}\n",
        "    nums = [x for x in signals['position_numbers'].unique() if x !=0]\n",
        "    for j in nums:\n",
        "        trades[j] = signals[signals['position_numbers']==j]\n",
        "        trades[j]['log_ret_cum'] = trades[j]['log_returns'].cumsum()\n",
        "        costs = 2*np.log((1-cost)/(1+cost))\n",
        "        trades[j]['log_ret_cum_after_costs'] = trades[j]['log_ret_cum'] + costs\n",
        "    return trades"
      ],
      "execution_count": 6,
      "outputs": []
    },
    {
      "cell_type": "markdown",
      "metadata": {
        "id": "rG3KX0_ne5Qe",
        "colab_type": "text"
      },
      "source": [
        "Now I'll define a class for fast and easy backtesting job"
      ]
    },
    {
      "cell_type": "code",
      "metadata": {
        "id": "DWEHe61rey0L",
        "colab_type": "code",
        "colab": {}
      },
      "source": [
        "class backtest_pair:\n",
        "    def __init__(self, ticker1, ticker2, start_time, end_time, long_open, short_open, long_close, short_close, costs):\n",
        "        # settings\n",
        "        self.ticker1 = ticker1\n",
        "        self.ticker2 = ticker2\n",
        "        self.long_open = long_open\n",
        "        self.long_close = long_close\n",
        "        self.short_open = short_open\n",
        "        self.short_close = short_close\n",
        "        self.costs = costs\n",
        "        self.start_time = start_time\n",
        "        self.end_time = end_time\n",
        "        # data\n",
        "        self.dataset = None\n",
        "        self.spread = None\n",
        "        self.spread_zscore = None\n",
        "        self.hedge_ratio = None\n",
        "        self.four_month_intervals = None\n",
        "        self.start_trading_date = None\n",
        "        self.trades = None\n",
        "        # results\n",
        "        self.returns = pd.DataFrame()\n",
        "        self.spread_zscore = None\n",
        "\n",
        "    def get_dataset(self):\n",
        "        self.dataset = get_prices([self.ticker1, self.ticker2], 'yahoo',\n",
        "                                     self.start_time, self.end_time, 'Adj Close').dropna()\n",
        "        for i in ['Spread_zscore', 'positions', 'position_numbers', 'Log_L', 'Log_S', 'log_returns', 'simple_returns']:\n",
        "            self.dataset[i] = np.nan\n",
        "\n",
        "    def cut_4months(self):\n",
        "        start = self.dataset.index[0]\n",
        "        end = self.dataset.index[-1]\n",
        "        self.four_month_intervals = pd.date_range(start, end, freq='4M')\n",
        "\n",
        "    def start_trading_time(self):\n",
        "        start = pd.to_datetime(self.start_time)\n",
        "        self.start_trading_date = pd.to_datetime((start + pd.offsets.DateOffset(months=12)).date())\n",
        "\n",
        "    def finalize_time_stamps(self):\n",
        "        self.four_month_intervals = self.four_month_intervals[self.four_month_intervals>\n",
        "                                                              self.start_trading_date]\n",
        "\n",
        "    def perform_tests(self, data, zscore):\n",
        "        EG = run_engel_granger(data[self.ticker1],#.pct_change().dropna(),\n",
        "                               data[self.ticker2])#.pct_change().dropna())\n",
        "        ADF = run_adfuller_test(zscore)\n",
        "        Johansen = run_johansen_test(data.dropna())\n",
        "        return EG, ADF, Johansen\n",
        "\n",
        "    def calculate_spread(self, hedge_ratio, dataset):\n",
        "        spread = dataset[self.ticker1] - dataset[self.ticker2] * hedge_ratio\n",
        "        spread_zscore = zscore_std(spread)\n",
        "        return spread_zscore, spread\n",
        "\n",
        "    def insert_spread(self, hedge_ratio, dataset):\n",
        "        spread_zscore, spread = self.calculate_spread(hedge_ratio, dataset)\n",
        "        self.spread_zscore = pd.concat([self.spread_zscore, spread_zscore])\n",
        "\n",
        "    def get_returns(self, hedge_ratio, dataset, trading):\n",
        "        spread_zscore, spread = self.calculate_spread(hedge_ratio, dataset)\n",
        "        # 0 - no position, 1 - long, -1 - short\n",
        "        if trading == True:\n",
        "            positions = [0]\n",
        "            for i in range(1, len(spread_zscore)):\n",
        "                current_position = positions[-1]  # today I look at active position that was set yestraday for today\n",
        "                positions.append(trading_rule(current_position, spread_zscore[i]))\n",
        "        if trading == False:\n",
        "            positions = [0]*len(spread_zscore)\n",
        "\n",
        "        signals = pd.DataFrame({str(self.ticker1): dataset[self.ticker1],\n",
        "                                str(self.ticker2): dataset[self.ticker2],\n",
        "                                'Spread_zscore': spread_zscore,\n",
        "                                'positions': positions},\n",
        "                               index=spread.index)\n",
        "        signals['positions'] = signals['positions'].shift().fillna(0)\n",
        "        signals['position_numbers'] = get_position_numbers(signals['positions'].tolist())\n",
        "        signals = limit_position_time(signals, 50)  # simple limiter for positions longer than 50 days\n",
        "        # I look at the data at the end of the day!\n",
        "        # the trading decision comes in force next day!\n",
        "        # trades = get_cross_section(signals)\n",
        "        signals = get_log_returns(dataset=signals, ticker1=self.ticker1, ticker2=self.ticker2,\n",
        "                                  hedge_ratio=hedge_ratio)\n",
        "\n",
        "        # self.dataset = pd.concat([self.dataset, signals.iloc[:,2:]], axis=1)\n",
        "        self.dataset.loc[signals.index] = signals\n",
        "        # self.spread_zscore = pd.concat([self.spread_zscore, spread_zscore])\n",
        "\n",
        "    def iterate(self):\n",
        "        for i in self.four_month_intervals:\n",
        "            start = pd.offsets.DateOffset(months=12)#.date()\n",
        "            end = pd.offsets.DateOffset(months=4)#.date()\n",
        "            training_set = self.dataset[[self.ticker1, self.ticker2]].loc[i-start:i]\n",
        "            test_set = self.dataset[[self.ticker1, self.ticker2]].loc[i:i+end]\n",
        "            # get historical spread + historical hedge ratio\n",
        "            training_spread, hedge_ratio = get_OLS_spread(training_set[self.ticker1],\n",
        "                                                          training_set[self.ticker2])\n",
        "            training_spread_zscore = zscore_std(training_spread)\n",
        "            EG, ADF, Johansen = self.perform_tests(training_set, training_spread_zscore)\n",
        "            # print(EG, ADF, Johansen)\n",
        "            print('tradng set: {}:{}, EG:{}, ADF:{}, Johansen:{}'.format(test_set.index[0].strftime('%Y-%m-%d'),\n",
        "                                                                         test_set.index[-1].strftime('%Y-%m-%d'),\n",
        "                                                                         round(EG, 3), round(ADF, 3), Johansen))\n",
        "            if (EG <= 0.105) and (ADF <= 0.105) and (Johansen == 'coint exists'):\n",
        "            # if (ADF <= 0.105):\n",
        "                # print('tradng set', test_set.index[0], test_set.index[-1])\n",
        "                self.get_returns(hedge_ratio=hedge_ratio, dataset=test_set, trading=True)\n",
        "                # self.spread_zscore = pd.concat([self.spread_zscore, test_set])\n",
        "            else:\n",
        "                self.get_returns(hedge_ratio=hedge_ratio, dataset=test_set, trading=False)\n",
        "\n",
        "        self.dataset['position_numbers'] = get_position_numbers(self.dataset['positions'].fillna(0).tolist())\n",
        "        self.dataset = self.dataset.fillna(0)\n",
        "\n",
        "    def get_trades_pl(self):\n",
        "        self.trades = get_cross_section(self.dataset, self.costs)\n",
        "\n",
        "    def visualize_trades_pl(self):\n",
        "        f, ax = plt.subplots()\n",
        "        [ax.plot(range(self.trades[x].shape[0]), self.trades[x]['log_ret_cum_after_costs'].values) for x in list(self.trades.keys())]\n",
        "\n",
        "    def visualize_trades_pl_no_costs(self):\n",
        "        f, ax = plt.subplots()\n",
        "        [ax.plot(range(self.trades[x].shape[0]), self.trades[x]['log_ret_cum'].values) for x in list(self.trades.keys())]\n",
        "\n",
        "    def visualize(self):\n",
        "        fig, axs = plt.subplots(2, 1, gridspec_kw={'height_ratios': [3, 1]}, sharex=True)\n",
        "        fig.suptitle('Positions and signals')\n",
        "        axs[0].plot(self.dataset[self.ticker1], color='orange', label=self.ticker1, fillstyle='none')\n",
        "        axs[0].plot(self.dataset[self.ticker2], color='blue', label=self.ticker2, fillstyle='none')\n",
        "        axs[0].fill_between(self.dataset.index,\n",
        "                            self.dataset[[self.ticker1, self.ticker2]].min().min(),\n",
        "                            self.dataset[[self.ticker1, self.ticker2]].max().max(),\n",
        "                            where=self.dataset['positions'] == 1,\n",
        "                            facecolor='green', alpha=0.5,)\n",
        "        axs[0].fill_between(self.dataset.index,\n",
        "                            self.dataset[[self.ticker1, self.ticker2]].min().min(),\n",
        "                            self.dataset[[self.ticker1, self.ticker2]].max().max(),\n",
        "                            where=self.dataset['positions'] == -1,\n",
        "                            facecolor='red', alpha=0.5,)\n",
        "        axs[0].legend()\n",
        "        axs[1].plot(self.dataset.index, self.dataset['Spread_zscore'].values)\n",
        "        axs[1].fill_between(self.dataset.index,\n",
        "                            self.dataset['Spread_zscore'].min(),\n",
        "                            self.dataset['Spread_zscore'].max(),\n",
        "                            where=self.dataset['positions'] == -1,\n",
        "                            facecolor='red', alpha=0.5,)\n",
        "        axs[1].fill_between(self.dataset.index,\n",
        "                            self.dataset['Spread_zscore'].min(),\n",
        "                            self.dataset['Spread_zscore'].max(),\n",
        "                            where=self.dataset['positions'] == 1,\n",
        "                            facecolor='green', alpha=0.5,)\n",
        "        axs[1].axhline(self.long_open, color='green', lw=2, alpha=0.5)\n",
        "        # axs[1].axhline(self.long_close, color='green', lw=2, alpha=0.5)\n",
        "        axs[1].axhline(self.short_open, color='red', lw=2, alpha=0.5)\n",
        "        # axs[1].axhline(self.short_close, color='red', lw=2, alpha=0.5)\n",
        "        plt.show()\n",
        "\n",
        "\n",
        "    def run(self):\n",
        "        self.get_dataset() # load data from yahoo finance\n",
        "        self.cut_4months() # cut dataset into 4 months period. Tests are performed each 4 months \n",
        "        self.start_trading_time() # time when backtesting starts. Training period is 1 year\n",
        "        self.finalize_time_stamps() # timestamps define start of new testing period\n",
        "        self.iterate() # iterate and backtest returns\n",
        "        self.get_trades_pl() # get profit-loss from strategy trades"
      ],
      "execution_count": 13,
      "outputs": []
    },
    {
      "cell_type": "markdown",
      "metadata": {
        "id": "Tc0GfDyHf2pU",
        "colab_type": "text"
      },
      "source": [
        "Class is not that hard as it seems. Besides, it's comfortable for backtesting. to run a backtest with new tickers, just type them into a class and use a .run() method. All set! Now you can compare and analyse strategy returns for any pair you want!"
      ]
    },
    {
      "cell_type": "markdown",
      "metadata": {
        "id": "Z-N5QQHAhAs5",
        "colab_type": "text"
      },
      "source": [
        "So the arguments for backtester are: \n",
        "\n",
        "1.   ticker1\n",
        "2.   ticker2\n",
        "3.  start time\n",
        "4. end time\n",
        "5. open threshold for long \n",
        "6. open threshold for short \n",
        "7. close threshold for long  \n",
        "8. close threshold for short  \n",
        "9. your expected comission \n"
      ]
    },
    {
      "cell_type": "markdown",
      "metadata": {
        "id": "oSXe7gJogxko",
        "colab_type": "text"
      },
      "source": [
        "Now let's backtest a strategy on a pasir from original paper\n"
      ]
    },
    {
      "cell_type": "code",
      "metadata": {
        "id": "8tYQqOUngTdw",
        "colab_type": "code",
        "colab": {
          "base_uri": "https://localhost:8080/",
          "height": 470
        },
        "outputId": "87ce0cde-d939-47ec-f5c4-3c52591de61e"
      },
      "source": [
        "bt1 = backtest_pair('V', 'MA','2014-01-01','2020-09-01', -2, 2, -0.5, 0.75, 0.005)\n",
        "bt1.run()"
      ],
      "execution_count": 14,
      "outputs": [
        {
          "output_type": "stream",
          "text": [
            "tradng set: 2015-02-02:2015-05-29, EG:0.004, ADF:0.006, Johansen:coint exists\n",
            "tradng set: 2015-06-01:2015-09-30, EG:0.039, ADF:0.033, Johansen:coint rejected\n",
            "tradng set: 2015-09-30:2016-01-29, EG:0.225, ADF:0.088, Johansen:coint exists\n",
            "tradng set: 2016-02-01:2016-05-31, EG:0.888, ADF:0.729, Johansen:coint rejected\n",
            "tradng set: 2016-05-31:2016-09-30, EG:0.706, ADF:0.537, Johansen:coint rejected\n",
            "tradng set: 2016-09-30:2017-01-30, EG:0.194, ADF:0.071, Johansen:coint rejected\n",
            "tradng set: 2017-01-31:2017-05-31, EG:0.368, ADF:0.17, Johansen:coint rejected\n",
            "tradng set: 2017-05-31:2017-09-29, EG:0.747, ADF:0.517, Johansen:coint rejected\n",
            "tradng set: 2017-10-02:2018-01-30, EG:0.544, ADF:0.303, Johansen:coint rejected\n",
            "tradng set: 2018-01-31:2018-05-31, EG:0.01, ADF:0.051, Johansen:coint rejected\n",
            "tradng set: 2018-05-31:2018-09-28, EG:0.177, ADF:0.095, Johansen:coint rejected\n",
            "tradng set: 2018-10-01:2019-01-30, EG:0.179, ADF:0.065, Johansen:coint rejected\n",
            "tradng set: 2019-01-31:2019-05-31, EG:0.127, ADF:0.044, Johansen:coint rejected\n",
            "tradng set: 2019-05-31:2019-09-30, EG:0.106, ADF:0.123, Johansen:coint rejected\n",
            "tradng set: 2019-09-30:2020-01-30, EG:0.187, ADF:0.069, Johansen:coint rejected\n",
            "tradng set: 2020-01-31:2020-05-29, EG:0.0, ADF:0.022, Johansen:coint exists\n",
            "tradng set: 2020-06-01:2020-09-01, EG:0.004, ADF:0.04, Johansen:coint exists\n"
          ],
          "name": "stdout"
        },
        {
          "output_type": "stream",
          "text": [
            "/usr/local/lib/python3.6/dist-packages/ipykernel_launcher.py:43: SettingWithCopyWarning: \n",
            "A value is trying to be set on a copy of a slice from a DataFrame.\n",
            "Try using .loc[row_indexer,col_indexer] = value instead\n",
            "\n",
            "See the caveats in the documentation: https://pandas.pydata.org/pandas-docs/stable/user_guide/indexing.html#returning-a-view-versus-a-copy\n",
            "/usr/local/lib/python3.6/dist-packages/ipykernel_launcher.py:45: SettingWithCopyWarning: \n",
            "A value is trying to be set on a copy of a slice from a DataFrame.\n",
            "Try using .loc[row_indexer,col_indexer] = value instead\n",
            "\n",
            "See the caveats in the documentation: https://pandas.pydata.org/pandas-docs/stable/user_guide/indexing.html#returning-a-view-versus-a-copy\n"
          ],
          "name": "stderr"
        }
      ]
    },
    {
      "cell_type": "code",
      "metadata": {
        "id": "4dAqPu1PngV5",
        "colab_type": "code",
        "colab": {
          "base_uri": "https://localhost:8080/",
          "height": 294
        },
        "outputId": "61c021fa-e61e-451b-bd35-be618afd5038"
      },
      "source": [
        "bt1.visualize()"
      ],
      "execution_count": 15,
      "outputs": [
        {
          "output_type": "display_data",
          "data": {
            "image/png": "[encoded data removed]",
            "text/plain": [
              "<Figure size 432x288 with 2 Axes>"
            ]
          },
          "metadata": {
            "tags": [],
            "needs_background": "light"
          }
        }
      ]
    },
    {
      "cell_type": "code",
      "metadata": {
        "id": "viddxOY7jywN",
        "colab_type": "code",
        "colab": {
          "base_uri": "https://localhost:8080/",
          "height": 267
        },
        "outputId": "c878c6af-1da3-4e55-9677-d8294d885d83"
      },
      "source": [
        "bt1.visualize_trades_pl()"
      ],
      "execution_count": 16,
      "outputs": [
        {
          "output_type": "display_data",
          "data": {
            "image/png": "[encoded data removed]",
            "text/plain": [
              "<Figure size 432x288 with 1 Axes>"
            ]
          },
          "metadata": {
            "tags": [],
            "needs_background": "light"
          }
        }
      ]
    },
    {
      "cell_type": "code",
      "metadata": {
        "id": "lKrqFI3teQNs",
        "colab_type": "code",
        "colab": {}
      },
      "source": [
        ""
      ],
      "execution_count": null,
      "outputs": []
    }
  ]
}